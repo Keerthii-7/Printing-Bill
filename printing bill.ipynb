{
 "cells": [
  {
   "cell_type": "code",
   "execution_count": 6,
   "metadata": {},
   "outputs": [
    {
     "name": "stdout",
     "output_type": "stream",
     "text": [
      "\t PRINTING A RESTAURENT BILL\n",
      "**********************************************************************\n",
      "                     EXOTICA                    \n",
      "                     On Banglore-Hyderabad Highway                    \n",
      "                     Anantapur                    \n",
      "======================================================================\n",
      "                     Receipe Name    Receipe Price          \n",
      "                     Veg manchuria\n",
      "                     a               ₹250 Rupees          \n",
      "                     crispy corn     ₹280 Rupees          \n",
      "                     chicken Lolli\n",
      "                     ipop            ₹350 Rupees          \n",
      "                     Paneer biryan\n",
      "                     ni              ₹310 Rupees          \n",
      "                     Special chick\n",
      "                     ken biryani     ₹340 Rupees          \n",
      "======================================================================\n",
      "                     total           ₹1530 Rupees          \n",
      "======================================================================\n",
      "\t Thanks for visiting us..... visit again! \t\n",
      "**********************************************************************\n",
      "                                                  - KEERTHI\n"
     ]
    }
   ],
   "source": [
    "def display(item,str,cost):\n",
    "    if (len(item)<len(str)):\n",
    "        t=4+int(len(str)-len(item))\n",
    "        print(\" \"*int((50-len(title))/2)+item+\" \"*t+\"₹\"+cost+\" Rupees\"+\" \"*10)\n",
    "    else:\n",
    "        s=item[len(str):]\n",
    "        k=item[0:(len(str)+1)]\n",
    "        print(\" \"*int((50-len(title))/2)+k)\n",
    "        t=4-int(len(s)-len(str))\n",
    "        print(\" \"*int((50-len(title))/2)+s+\" \"*t+\"₹\"+cost+\" Rupees\"+\" \"*10)\n",
    "print(\"\\t printing a restaurent bill\".upper())\n",
    "title=input(\"enter title of restuarent\")\n",
    "landmark=input(\"enter the land mark:\")\n",
    "city=input(\"enter the city in which it is located:\")\n",
    "print(\"*\"*70)\n",
    "print(\" \"*int((50-len(title))/2)+title.upper()+\" \"*20)\n",
    "print(\" \"*int((50-len(title))/2)+landmark.title()+\" \"*20)\n",
    "print(\" \"*int((50-len(title))/2)+city.title()+\" \"*20)\n",
    "print(\"=\"*70)\n",
    "print(\" \"*int((50-len(title))/2)+\"Receipe Name\"+\" \"*4+\"Receipe Price\"+\" \"*10)\n",
    "n=int(input(\"enter no.of items : \"))\n",
    "total=0\n",
    "for i in range(n):\n",
    "    item=input(\"enter your receipe:\")\n",
    "    cost=input(\"enter the cost of item:\")\n",
    "    display(item,\"Receipe name\",cost)\n",
    "    total=total+int(cost)\n",
    "print(\"=\"*70)\n",
    "display(\"total\",\"Receipe name\",str(total))\n",
    "print(\"=\"*70)\n",
    "print(\"\\t Thanks for visiting us..... visit again! \\t\")\n",
    "print(\"*\"*70)\n",
    "print(\" \"*50+\"- KEERTHI\")\n"
   ]
  }
 ],
 "metadata": {
  "interpreter": {
   "hash": "9674b7022b93cca1b6c1717095ec01e06dd50606edb8cf5e8886c8b33be5c306"
  },
  "kernelspec": {
   "display_name": "Python 3.9.12 ('base')",
   "language": "python",
   "name": "python3"
  },
  "language_info": {
   "codemirror_mode": {
    "name": "ipython",
    "version": 3
   },
   "file_extension": ".py",
   "mimetype": "text/x-python",
   "name": "python",
   "nbconvert_exporter": "python",
   "pygments_lexer": "ipython3",
   "version": "3.12.3"
  },
  "orig_nbformat": 4
 },
 "nbformat": 4,
 "nbformat_minor": 2
}
